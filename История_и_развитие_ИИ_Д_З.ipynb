{
  "nbformat": 4,
  "nbformat_minor": 0,
  "metadata": {
    "colab": {
      "provenance": [],
      "authorship_tag": "ABX9TyMqsZTJJ1FPV93BoMvCGSIX",
      "include_colab_link": true
    },
    "kernelspec": {
      "name": "python3",
      "display_name": "Python 3"
    },
    "language_info": {
      "name": "python"
    }
  },
  "cells": [
    {
      "cell_type": "markdown",
      "metadata": {
        "id": "view-in-github",
        "colab_type": "text"
      },
      "source": [
        "<a href=\"https://colab.research.google.com/github/AlexanderLyuft/Fake_math/blob/main/%D0%98%D1%81%D1%82%D0%BE%D1%80%D0%B8%D1%8F_%D0%B8_%D1%80%D0%B0%D0%B7%D0%B2%D0%B8%D1%82%D0%B8%D0%B5_%D0%98%D0%98_%D0%94_%D0%97.ipynb\" target=\"_parent\"><img src=\"https://colab.research.google.com/assets/colab-badge.svg\" alt=\"Open In Colab\"/></a>"
      ]
    },
    {
      "cell_type": "markdown",
      "source": [
        "Пример кода для многослойного персептрона, чтобы решить задачу XOR:"
      ],
      "metadata": {
        "id": "rp9mWuknSUc0"
      }
    },
    {
      "cell_type": "code",
      "source": [
        "import numpy as np\n",
        "\n",
        "# Сигмоидная функция и её производная\n",
        "def sigmoid(x):\n",
        "    return 1 / (1 + np.exp(-x))\n",
        "\n",
        "def sigmoid_derivative(x):\n",
        "    return x * (1 - x)\n",
        "\n",
        "# Данные для XOR\n",
        "X = np.array([[0, 0],\n",
        "              [0, 1],\n",
        "              [1, 0],\n",
        "              [1, 1]])\n",
        "\n",
        "y = np.array([[0], [1], [1], [0]])\n",
        "\n",
        "# Параметры\n",
        "input_layer_neurons = 2  # количество входов\n",
        "hidden_layer_neurons = 2  # количество нейронов в скрытом слое\n",
        "output_neurons = 1        # количество выходов\n",
        "learning_rate = 0.5\n",
        "epochs = 10000\n",
        "\n",
        "# Инициализация весов\n",
        "np.random.seed(42)  # для воспроизводимости\n",
        "hidden_weights = np.random.uniform(size=(input_layer_neurons, hidden_layer_neurons))\n",
        "output_weights = np.random.uniform(size=(hidden_layer_neurons, output_neurons))\n",
        "\n",
        "for _ in range(epochs):\n",
        "    # Прямое распространение\n",
        "    hidden_layer_activation = np.dot(X, hidden_weights)\n",
        "    hidden_layer_output = sigmoid(hidden_layer_activation)\n",
        "\n",
        "    output_layer_activation = np.dot(hidden_layer_output, output_weights)\n",
        "    predicted_output = sigmoid(output_layer_activation)\n",
        "\n",
        "    # Обратное распространение ошибки\n",
        "    error = y - predicted_output\n",
        "    d_predicted_output = error * sigmoid_derivative(predicted_output)\n",
        "\n",
        "    output_weights += hidden_layer_output.T.dot(d_predicted_output) * learning_rate\n",
        "    d_hidden_layer = d_predicted_output.dot(output_weights.T) * sigmoid_derivative(hidden_layer_output)\n",
        "    hidden_weights += X.T.dot(d_hidden_layer) * learning_rate\n",
        "\n",
        "print(\"Обучение завершено. Предсказанный вывод для XOR:\")\n",
        "print(predicted_output)"
      ],
      "metadata": {
        "colab": {
          "base_uri": "https://localhost:8080/"
        },
        "id": "qRaScq_TSLUp",
        "outputId": "0689c5a2-5733-403c-e2f7-eaf5ea01497d"
      },
      "execution_count": 2,
      "outputs": [
        {
          "output_type": "stream",
          "name": "stdout",
          "text": [
            "Обучение завершено. Предсказанный вывод для XOR:\n",
            "[[0.05432236]\n",
            " [0.89824713]\n",
            " [0.89824729]\n",
            " [0.13513498]]\n"
          ]
        }
      ]
    },
    {
      "cell_type": "markdown",
      "source": [
        "Код для однослойного персептрона, который будет пытаться решить задачу XOR. Из-за линейной неразделимости этой задачи, однослойный персептрон не сможет добиться хороших результатов."
      ],
      "metadata": {
        "id": "tAGmFoliS6cq"
      }
    },
    {
      "cell_type": "code",
      "execution_count": 3,
      "metadata": {
        "colab": {
          "base_uri": "https://localhost:8080/"
        },
        "id": "DMKP__njR3pc",
        "outputId": "2cb79cd8-6852-4240-8843-2e3963e3301e"
      },
      "outputs": [
        {
          "output_type": "stream",
          "name": "stdout",
          "text": [
            "Результат после 10000 эпох:\n",
            "[[0.5]\n",
            " [0.5]\n",
            " [0.5]\n",
            " [0.5]]\n",
            "Результат после 20000 эпох:\n",
            "[[0.5]\n",
            " [0.5]\n",
            " [0.5]\n",
            " [0.5]]\n",
            "Результат после 50000 эпох:\n",
            "[[0.5]\n",
            " [0.5]\n",
            " [0.5]\n",
            " [0.5]]\n"
          ]
        }
      ],
      "source": [
        "import numpy as np\n",
        "\n",
        "# Сигмоидная функция и её производная\n",
        "def sigmoid(x):\n",
        "    return 1 / (1 + np.exp(-x))\n",
        "\n",
        "def sigmoid_derivative(x):\n",
        "    return x * (1 - x)\n",
        "\n",
        "# Данные для XOR\n",
        "X = np.array([[0, 0],\n",
        "              [0, 1],\n",
        "              [1, 0],\n",
        "              [1, 1]])\n",
        "\n",
        "y = np.array([[0], [1], [1], [0]])\n",
        "\n",
        "# Параметры\n",
        "input_layer_neurons = 2  # количество входов\n",
        "output_neurons = 1        # количество выходов\n",
        "learning_rate = 0.5\n",
        "\n",
        "# Инициализация весов\n",
        "np.random.seed(42)  # для воспроизводимости\n",
        "weights = np.random.uniform(size=(input_layer_neurons, output_neurons))\n",
        "\n",
        "# Обучение персептрона на 10 000, 20 000 и 50 000 эпох\n",
        "for epochs in [10000, 20000, 50000]:\n",
        "    for _ in range(epochs):\n",
        "        # Прямое распространение\n",
        "        output = sigmoid(np.dot(X, weights))\n",
        "\n",
        "        # Обратное распространение ошибки\n",
        "        error = y - output\n",
        "        d_output = error * sigmoid_derivative(output)\n",
        "        weights += X.T.dot(d_output) * learning_rate\n",
        "\n",
        "    print(f\"Результат после {epochs} эпох:\")\n",
        "    print(output)"
      ]
    },
    {
      "cell_type": "markdown",
      "source": [
        "Вывод об однослойных и многослойных персептронах\n",
        "\n",
        "Однослойный персептрон способен решать только линейно разделимые задачи. В случае задачи XOR, где входы не могут быть разделены линейной функцией, однослойный персептрон не дает хороших результатов при обучении.\n",
        "\n",
        "Многослойный персептрон, благодаря наличию скрытых слоев, способен моделировать нелинейные зависимости и успешно решать такие задачи, как XOR. Он использует несколько слоев нейронов, которые применяют нелинейные функции активации, что позволяет ему находить сложные зависимости в данных.\n",
        "Таким образом, многослойные персептроны являются более мощными инструментами для решения различных задач в сравнении с однослойными персептронами."
      ],
      "metadata": {
        "id": "ioHxuFXyTMnY"
      }
    }
  ]
}